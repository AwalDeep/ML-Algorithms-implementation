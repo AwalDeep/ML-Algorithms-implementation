{
 "cells": [
  {
   "cell_type": "code",
   "execution_count": 2,
   "metadata": {},
   "outputs": [],
   "source": [
    "import numpy as np\n",
    "#np.random.seed(42)"
   ]
  },
  {
   "cell_type": "code",
   "execution_count": 3,
   "metadata": {},
   "outputs": [
    {
     "name": "stdout",
     "output_type": "stream",
     "text": [
      "(1000, 3)\n",
      "(1000, 1)\n",
      "(3, 1)\n",
      "(1000, 1)\n"
     ]
    }
   ],
   "source": [
    "feature_vector=2\n",
    "sample=1000\n",
    "x_data=np.random.rand(sample,feature_vector)\n",
    "ones_array=np.ones(sample).reshape(sample,1)\n",
    "x_final=np.append(ones_array,x_data,axis=1)\n",
    "beta=np.random.rand(feature_vector+1,1)\n",
    "noise=np.random.randn(sample,1)\n",
    "y_data=np.dot(x_final,beta)\n",
    "y_final=y_data+noise\n",
    "print(x_final.shape)\n",
    "print(y_final.shape)\n",
    "print(beta.shape)\n",
    "print(noise.shape)"
   ]
  },
  {
   "cell_type": "code",
   "execution_count": 4,
   "metadata": {},
   "outputs": [],
   "source": [
    "#feature_vector=2\n",
    "#sample=1000\n",
    "#from numpy import genfromtxt\n",
    "#x_final=genfromtxt('x.csv', delimiter=',')\n",
    "#y_final=genfromtxt('y.csv', delimiter=',')"
   ]
  },
  {
   "cell_type": "code",
   "execution_count": 5,
   "metadata": {},
   "outputs": [
    {
     "data": {
      "text/plain": [
       "(3, 1)"
      ]
     },
     "execution_count": 5,
     "metadata": {},
     "output_type": "execute_result"
    }
   ],
   "source": [
    "new_beta=np.random.rand(feature_vector+1,1)   #randn ?\n",
    "new_beta.shape"
   ]
  },
  {
   "cell_type": "code",
   "execution_count": 6,
   "metadata": {},
   "outputs": [
    {
     "name": "stdout",
     "output_type": "stream",
     "text": [
      "0.8614011549711585\n",
      "[[ 0.44624392]\n",
      " [-0.05310817]\n",
      " [ 0.59439348]]\n"
     ]
    }
   ],
   "source": [
    "for i in range(10000):\n",
    "    \n",
    "    y_hat=np.dot(x_final,new_beta)\n",
    "    y_difference=y_final-y_hat\n",
    "    y_equation=-2*(np.transpose(y_difference))\n",
    "    derivative=np.dot(y_equation,x_final)/sample\n",
    "    #print(derivative) \n",
    "    new_beta=(new_beta)-0.1*(derivative.T)\n",
    "    y_square=np.square(y_difference)\n",
    "    cost_value=np.sum(y_square)/sample\n",
    "    #cost_array.append(cost_value)\n",
    "print(cost_value)   \n",
    "print(new_beta)\n",
    "    \n",
    "\n",
    "#if cost_array[i-1]-cost_array[i] <0.000001:\n",
    "#    #print(cost_array[i-1],cost_array[i])\n",
    "#    break\n",
    "#x_final.shape    "
   ]
  },
  {
   "cell_type": "code",
   "execution_count": null,
   "metadata": {},
   "outputs": [],
   "source": []
  },
  {
   "cell_type": "code",
   "execution_count": null,
   "metadata": {},
   "outputs": [],
   "source": []
  },
  {
   "cell_type": "code",
   "execution_count": 7,
   "metadata": {},
   "outputs": [
    {
     "data": {
      "text/plain": [
       "LinearRegression(copy_X=True, fit_intercept=True, n_jobs=1, normalize=False)"
      ]
     },
     "execution_count": 7,
     "metadata": {},
     "output_type": "execute_result"
    }
   ],
   "source": [
    "from sklearn.linear_model import LinearRegression\n",
    "regressor= LinearRegression()\n",
    "\n",
    "regressor.fit(x_data,y_final)"
   ]
  },
  {
   "cell_type": "code",
   "execution_count": 8,
   "metadata": {},
   "outputs": [],
   "source": [
    "y_pred=regressor.predict(x_data)"
   ]
  },
  {
   "cell_type": "code",
   "execution_count": 9,
   "metadata": {},
   "outputs": [
    {
     "data": {
      "text/plain": [
       "array([[-0.05310817,  0.59439348]])"
      ]
     },
     "execution_count": 9,
     "metadata": {},
     "output_type": "execute_result"
    }
   ],
   "source": [
    "regressor.coef_"
   ]
  },
  {
   "cell_type": "code",
   "execution_count": 10,
   "metadata": {},
   "outputs": [
    {
     "data": {
      "text/plain": [
       "array([0.44624392])"
      ]
     },
     "execution_count": 10,
     "metadata": {},
     "output_type": "execute_result"
    }
   ],
   "source": [
    "regressor.intercept_"
   ]
  },
  {
   "cell_type": "code",
   "execution_count": 11,
   "metadata": {},
   "outputs": [
    {
     "data": {
      "text/plain": [
       "0.8614011549711584"
      ]
     },
     "execution_count": 11,
     "metadata": {},
     "output_type": "execute_result"
    }
   ],
   "source": [
    "import sklearn\n",
    "sklearn.metrics.mean_squared_error(y_final,y_pred)"
   ]
  },
  {
   "cell_type": "code",
   "execution_count": 12,
   "metadata": {},
   "outputs": [
    {
     "data": {
      "text/plain": [
       "array([[ 2.55795385e-16, -3.19744231e-17, -4.94715380e-16]])"
      ]
     },
     "execution_count": 12,
     "metadata": {},
     "output_type": "execute_result"
    }
   ],
   "source": [
    "derivative"
   ]
  },
  {
   "cell_type": "code",
   "execution_count": null,
   "metadata": {},
   "outputs": [],
   "source": []
  },
  {
   "cell_type": "code",
   "execution_count": null,
   "metadata": {},
   "outputs": [],
   "source": []
  }
 ],
 "metadata": {
  "kernelspec": {
   "display_name": "Python 3",
   "language": "python",
   "name": "python3"
  },
  "language_info": {
   "codemirror_mode": {
    "name": "ipython",
    "version": 3
   },
   "file_extension": ".py",
   "mimetype": "text/x-python",
   "name": "python",
   "nbconvert_exporter": "python",
   "pygments_lexer": "ipython3",
   "version": "3.6.5"
  }
 },
 "nbformat": 4,
 "nbformat_minor": 2
}
